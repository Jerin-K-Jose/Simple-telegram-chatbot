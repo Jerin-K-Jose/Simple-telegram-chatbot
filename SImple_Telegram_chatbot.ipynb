{
  "nbformat": 4,
  "nbformat_minor": 0,
  "metadata": {
    "colab": {
      "name": "SImple_Telegram_chatbot.ipynb",
      "provenance": [],
      "collapsed_sections": [],
      "authorship_tag": "ABX9TyNhHo6luLmDWb5o/nF20z8B"
    },
    "kernelspec": {
      "name": "python3",
      "display_name": "Python 3"
    },
    "language_info": {
      "name": "python"
    }
  },
  "cells": [
    {
      "cell_type": "code",
      "metadata": {
        "id": "USui00OQnmT9",
        "colab": {
          "base_uri": "https://localhost:8080/"
        },
        "outputId": "cbe4b377-67f9-48a0-8ea0-ee5d4fd18650"
      },
      "source": [
        "!pip3 install adafruit-io --quiet"
      ],
      "execution_count": 1,
      "outputs": [
        {
          "output_type": "stream",
          "name": "stdout",
          "text": [
            "\u001b[K     |████████████████████████████████| 47 kB 2.2 MB/s \n",
            "\u001b[K     |████████████████████████████████| 99 kB 5.2 MB/s \n",
            "\u001b[?25h  Building wheel for adafruit-io (setup.py) ... \u001b[?25l\u001b[?25hdone\n",
            "  Building wheel for paho-mqtt (setup.py) ... \u001b[?25l\u001b[?25hdone\n"
          ]
        }
      ]
    },
    {
      "cell_type": "code",
      "metadata": {
        "id": "BktQ8BZfsaFu",
        "colab": {
          "base_uri": "https://localhost:8080/"
        },
        "outputId": "c63e0731-2db1-4d1b-ade7-b58bd7ca7cca"
      },
      "source": [
        "!pip install python-telegram-bot==13.0 --quiet"
      ],
      "execution_count": 2,
      "outputs": [
        {
          "output_type": "stream",
          "name": "stdout",
          "text": [
            "\u001b[K     |████████████████████████████████| 404 kB 5.1 MB/s \n",
            "\u001b[K     |████████████████████████████████| 3.5 MB 21.6 MB/s \n",
            "\u001b[K     |████████████████████████████████| 58 kB 6.0 MB/s \n",
            "\u001b[?25h"
          ]
        }
      ]
    },
    {
      "cell_type": "code",
      "metadata": {
        "id": "QXJfQx1vwPnz"
      },
      "source": [
        "from telegram.ext import Updater, CommandHandler, MessageHandler, Filters\n",
        "from Adafruit_IO import Client, Data\n",
        "aio = Client('ADAFRUIT_USERNAME', 'ADAFRUIT_KEY')\n",
        "\n",
        "updater = Updater(token='BOT_TOKEN', use_context=True)\n",
        "dispatcher = updater.dispatcher\n",
        "\n",
        "def start(update, context):\n",
        "    context.bot.send_message(chat_id=update.effective_chat.id, text=\"Hi, I'm your chatbot!\")\n",
        "\n",
        "def sendData(sendvalue, sendfeed):\n",
        "  feed = aio.feeds(sendfeed)\n",
        "  aio.send_data(feed.key, sendvalue)\n",
        "\n",
        "\n",
        "def echo(update, context):\n",
        "  lighton_message = [\"turn on light\", \"lights on\", \"turn on the light\"]\n",
        "  lightoff_message = [\"turn off light\", \"lights off\", \"turn off the light\"]\n",
        "  fanon_message = [\"turn on fan\", \"fan on\", \"turn on the fan\"]\n",
        "  fanoff_message = [\"turn off fan\", \"fan off\", \"turn off the fan\"]\n",
        "\n",
        "  if update.message.text.lower() in lighton_message:\n",
        "    sendData(1, 'light-control')\n",
        "    context.bot.send_message(chat_id=update.effective_chat.id, text=\"Light turned ON\")\n",
        "  elif update.message.text.lower() in lightoff_message:\n",
        "    sendData(0, 'light-control')\n",
        "    context.bot.send_message(chat_id=update.effective_chat.id, text=\"Light turned OFF\")\n",
        "  elif update.message.text.lower() in fanon_message:\n",
        "    sendData(1, 'fan-control')\n",
        "    context.bot.send_message(chat_id=update.effective_chat.id, text=\"fan turned ON\")\n",
        "  elif update.message.text.lower() in fanoff_message:\n",
        "    sendData(0, 'fan-control')\n",
        "    context.bot.send_message(chat_id=update.effective_chat.id, text=\"fan turned OFF\")\n",
        " \n",
        "start_handler = CommandHandler('start', start)\n",
        "dispatcher.add_handler(start_handler)\n",
        "\n",
        "echo_handler = MessageHandler(Filters.text & (~Filters.command), echo)\n",
        "dispatcher.add_handler(echo_handler)\n",
        "\n",
        "\n",
        "updater.start_polling()\n",
        "updater.idle()\n",
        "\n"
      ],
      "execution_count": 4,
      "outputs": []
    }
  ]
}